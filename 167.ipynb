{
 "cells": [
  {
   "cell_type": "markdown",
   "id": "3f718552",
   "metadata": {},
   "source": [
    "# 167. Two Sum II - Input Array Is Sorted\n",
    "\n",
    "Given a 1-indexed array of integers numbers that is already sorted in non-decreasing order, find two numbers such that they add up to a specific target number. Let these two numbers be numbers[index1] and numbers[index2] where 1 <= index1 < index2 <= numbers.length.\n",
    "\n",
    "Return the indices of the two numbers, index1 and index2, added by one as an integer array [index1, index2] of length 2.\n",
    "\n",
    "The tests are generated such that there is exactly one solution. You may not use the same element twice.\n",
    "\n",
    "Your solution must use only constant extra space.\n",
    "\n",
    " \n",
    "\n",
    "Example 1:\n",
    "\n",
    "Input: numbers = [2,7,11,15], target = 9\n",
    "\n",
    "Output: [1,2]\n",
    "\n",
    "Explanation: The sum of 2 and 7 is 9. Therefore, index1 = 1, index2 = 2. We return [1, 2].\n",
    "\n",
    "Example 2:\n",
    "\n",
    "Input: numbers = [2,3,4], target = 6\n",
    "\n",
    "Output: [1,3]\n",
    "\n",
    "Explanation: The sum of 2 and 4 is 6. Therefore index1 = 1, index2 = 3. We return [1, 3].\n",
    "\n",
    "Example 3:\n",
    "\n",
    "Input: numbers = [-1,0], target = -1\n",
    "\n",
    "Output: [1,2]\n",
    "\n",
    "Explanation: The sum of -1 and 0 is -1. Therefore index1 = 1, index2 = 2. We return [1, 2].\n",
    " \n",
    "\n",
    "Constraints:\n",
    "\n",
    "2 <= numbers.length <= 3 * 104\n",
    "\n",
    "-1000 <= numbers[i] <= 1000\n",
    "\n",
    "numbers is sorted in non-decreasing order.\n",
    "\n",
    "-1000 <= target <= 1000\n",
    "\n",
    "The tests are generated such that there is exactly one solution."
   ]
  },
  {
   "cell_type": "code",
   "execution_count": 1,
   "id": "02da8018",
   "metadata": {},
   "outputs": [],
   "source": [
    "# Nested loops solution\n",
    "from typing import List\n",
    "class Solution:\n",
    "    def twoSum(self, numbers: List[int], target: int) -> List[int]:\n",
    "        idx1 = idx2 = 0\n",
    "        for i in range(len(numbers)):\n",
    "            for j in range(i+1,len(numbers)):\n",
    "                if target == numbers[j] + numbers[i]:\n",
    "                    return [i+1,j+1]\n",
    "                    break"
   ]
  },
  {
   "cell_type": "code",
   "execution_count": null,
   "id": "ca9e18d4",
   "metadata": {},
   "outputs": [
    {
     "ename": "NameError",
     "evalue": "name 'List' is not defined",
     "output_type": "error",
     "traceback": [
      "\u001b[1;31m---------------------------------------------------------------------------\u001b[0m",
      "\u001b[1;31mNameError\u001b[0m                                 Traceback (most recent call last)",
      "Cell \u001b[1;32mIn[1], line 2\u001b[0m\n\u001b[0;32m      1\u001b[0m \u001b[38;5;66;03m# Two pointers solution\u001b[39;00m\n\u001b[1;32m----> 2\u001b[0m \u001b[38;5;28;43;01mclass\u001b[39;49;00m\u001b[43m \u001b[49m\u001b[38;5;21;43;01mSolution\u001b[39;49;00m\u001b[43m:\u001b[49m\n\u001b[0;32m      3\u001b[0m \u001b[43m    \u001b[49m\u001b[38;5;28;43;01mdef\u001b[39;49;00m\u001b[43m \u001b[49m\u001b[38;5;21;43mtwoSum\u001b[39;49m\u001b[43m(\u001b[49m\u001b[38;5;28;43mself\u001b[39;49m\u001b[43m,\u001b[49m\u001b[43m \u001b[49m\u001b[43mnumbers\u001b[49m\u001b[43m:\u001b[49m\u001b[43m \u001b[49m\u001b[43mList\u001b[49m\u001b[43m[\u001b[49m\u001b[38;5;28;43mint\u001b[39;49m\u001b[43m]\u001b[49m\u001b[43m,\u001b[49m\u001b[43m \u001b[49m\u001b[43mtarget\u001b[49m\u001b[43m:\u001b[49m\u001b[43m \u001b[49m\u001b[38;5;28;43mint\u001b[39;49m\u001b[43m)\u001b[49m\u001b[43m \u001b[49m\u001b[38;5;241;43m-\u001b[39;49m\u001b[38;5;241;43m>\u001b[39;49m\u001b[43m \u001b[49m\u001b[43mList\u001b[49m\u001b[43m[\u001b[49m\u001b[38;5;28;43mint\u001b[39;49m\u001b[43m]\u001b[49m\u001b[43m:\u001b[49m\n\u001b[0;32m      4\u001b[0m \u001b[43m        \u001b[49m\u001b[43mleft\u001b[49m\u001b[43m \u001b[49m\u001b[38;5;241;43m=\u001b[39;49m\u001b[43m \u001b[49m\u001b[38;5;241;43m0\u001b[39;49m\n",
      "Cell \u001b[1;32mIn[1], line 3\u001b[0m, in \u001b[0;36mSolution\u001b[1;34m()\u001b[0m\n\u001b[0;32m      2\u001b[0m \u001b[38;5;28;01mclass\u001b[39;00m \u001b[38;5;21;01mSolution\u001b[39;00m:\n\u001b[1;32m----> 3\u001b[0m     \u001b[38;5;28;01mdef\u001b[39;00m \u001b[38;5;21mtwoSum\u001b[39m(\u001b[38;5;28mself\u001b[39m, numbers: \u001b[43mList\u001b[49m[\u001b[38;5;28mint\u001b[39m], target: \u001b[38;5;28mint\u001b[39m) \u001b[38;5;241m-\u001b[39m\u001b[38;5;241m>\u001b[39m List[\u001b[38;5;28mint\u001b[39m]:\n\u001b[0;32m      4\u001b[0m         left \u001b[38;5;241m=\u001b[39m \u001b[38;5;241m0\u001b[39m\n\u001b[0;32m      5\u001b[0m         right \u001b[38;5;241m=\u001b[39m \u001b[38;5;28mlen\u001b[39m(numbers) \u001b[38;5;241m-\u001b[39m \u001b[38;5;241m1\u001b[39m\n",
      "\u001b[1;31mNameError\u001b[0m: name 'List' is not defined"
     ]
    }
   ],
   "source": [
    "# Two pointers solution\n",
    "from typing import List\n",
    "class Solution:\n",
    "    def twoSum(self, numbers: List[int], target: int) -> List[int]:\n",
    "        left = 0\n",
    "        right = len(numbers) - 1\n",
    "        while left < right:\n",
    "            if numbers[left] + numbers[right] == target:\n",
    "                return [left + 1, right + 1]\n",
    "            elif numbers[left] + numbers[right] < target:\n",
    "                left += 1\n",
    "            else:\n",
    "                right -= 1"
   ]
  },
  {
   "cell_type": "code",
   "execution_count": 2,
   "id": "ba23cd24",
   "metadata": {},
   "outputs": [
    {
     "name": "stdout",
     "output_type": "stream",
     "text": [
      "[1, 2]\n",
      "[1, 3]\n",
      "[1, 2]\n",
      "[1, 2]\n"
     ]
    }
   ],
   "source": [
    "# Testing the solution locally\n",
    "if __name__ == \"__main__\":\n",
    "    s = Solution()\n",
    "    print(s.twoSum([2,7,11,15], 9)) # [1,2]\n",
    "    print(s.twoSum([2,3,4], 6)) # [1,3]\n",
    "    print(s.twoSum([-1,0], -1)) # [1,2]\n",
    "    print(s.twoSum([0,0,3,4], 0)) # [1,2]"
   ]
  }
 ],
 "metadata": {
  "kernelspec": {
   "display_name": "Python 3",
   "language": "python",
   "name": "python3"
  },
  "language_info": {
   "codemirror_mode": {
    "name": "ipython",
    "version": 3
   },
   "file_extension": ".py",
   "mimetype": "text/x-python",
   "name": "python",
   "nbconvert_exporter": "python",
   "pygments_lexer": "ipython3",
   "version": "3.12.2"
  }
 },
 "nbformat": 4,
 "nbformat_minor": 5
}
