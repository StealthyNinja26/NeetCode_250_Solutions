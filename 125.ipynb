{
 "cells": [
  {
   "cell_type": "markdown",
   "id": "4c38f5af",
   "metadata": {},
   "source": [
    "# 125. Valid Palindrome\n",
    "A phrase is a palindrome if, after converting all uppercase letters into lowercase letters and removing all non-alphanumeric characters, it reads the same forward and backward. Alphanumeric characters include letters and numbers.\n",
    "\n",
    "Given a string s, return true if it is a palindrome, or false otherwise.\n",
    "\n",
    " \n",
    "\n",
    "Example 1:\n",
    "\n",
    "Input: s = \"A man, a plan, a canal: Panama\"\n",
    "\n",
    "Output: true\n",
    "\n",
    "Explanation: \"amanaplanacanalpanama\" is a palindrome.\n",
    "\n",
    "Example 2:\n",
    "\n",
    "Input: s = \"race a car\"\n",
    "\n",
    "Output: false\n",
    "\n",
    "Explanation: \"raceacar\" is not a palindrome.\n",
    "\n",
    "Example 3:\n",
    "\n",
    "Input: s = \" \"\n",
    "\n",
    "Output: true\n",
    "\n",
    "Explanation: s is an empty string \"\" after removing non-alphanumeric characters.\n",
    "\n",
    "Since an empty string reads the same forward and backward, it is a palindrome.\n",
    " \n",
    "\n",
    "Constraints:\n",
    "\n",
    "1 <= s.length <= 2 * 105\n",
    "\n",
    "s consists only of printable ASCII characters."
   ]
  },
  {
   "cell_type": "code",
   "execution_count": 1,
   "id": "1a2b049e",
   "metadata": {},
   "outputs": [],
   "source": [
    "from typing import List\n",
    "class Solution:\n",
    "    def isPalindrome(self, s: str) -> bool:\n",
    "        cleaned = \"\"\n",
    "        for i in s:\n",
    "            if (i.isalpha()):\n",
    "                cleaned += i\n",
    "        cleaned = cleaned.lower()\n",
    "        rev = ''.join(reversed(cleaned))\n",
    "        if rev == cleaned:\n",
    "            return True\n",
    "        return False"
   ]
  },
  {
   "cell_type": "code",
   "execution_count": 2,
   "id": "aa3e5a59",
   "metadata": {},
   "outputs": [
    {
     "name": "stdout",
     "output_type": "stream",
     "text": [
      "Input: A man, a plan, a canal: Panama, Output: True\n",
      "Input: race a car, Output: False\n",
      "Input:  , Output: True\n"
     ]
    }
   ],
   "source": [
    "# Test cases\n",
    "if __name__ == \"__main__\":\n",
    "    s = Solution()\n",
    "    test_cases = [\"A man, a plan, a canal: Panama\"],[\"race a car\"],[\" \"]\n",
    "    for test in test_cases:\n",
    "        result = s.isPalindrome(test[0])\n",
    "        print(f\"Input: {test[0]}, Output: {result}\")"
   ]
  }
 ],
 "metadata": {
  "kernelspec": {
   "display_name": "Python 3",
   "language": "python",
   "name": "python3"
  },
  "language_info": {
   "codemirror_mode": {
    "name": "ipython",
    "version": 3
   },
   "file_extension": ".py",
   "mimetype": "text/x-python",
   "name": "python",
   "nbconvert_exporter": "python",
   "pygments_lexer": "ipython3",
   "version": "3.12.2"
  }
 },
 "nbformat": 4,
 "nbformat_minor": 5
}
