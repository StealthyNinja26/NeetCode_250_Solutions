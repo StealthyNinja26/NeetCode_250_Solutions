{
 "cells": [
  {
   "cell_type": "markdown",
   "id": "9649c15d",
   "metadata": {},
   "source": [
    "# 42. Trapping Rain Water\n",
    "Given n non-negative integers representing an elevation map where the width of each bar is 1, compute how much water it can trap after raining.\n",
    "\n",
    "Example 1:\n",
    "\n",
    "Input: height = [0,1,0,2,1,0,1,3,2,1,2,1]\n",
    "\n",
    "Output: 6\n",
    "\n",
    "Explanation: The above elevation map (black section) is represented by array [0,1,0,2,1,0,1,3,2,1,2,1]. In this case, 6 units of rain water (blue section) are being trapped.\n",
    "\n",
    "Example 2:\n",
    "\n",
    "Input: height = [4,2,0,3,2,5]\n",
    "\n",
    "Output: 9\n",
    " \n",
    "\n",
    "Constraints:\n",
    "\n",
    "n == height.length\n",
    "\n",
    "1 <= n <= 2 * 104\n",
    "\n",
    "0 <= height[i] <= 105"
   ]
  },
  {
   "cell_type": "code",
   "execution_count": 1,
   "id": "d2c67961",
   "metadata": {},
   "outputs": [],
   "source": [
    "from typing import List\n",
    "class Solution:\n",
    "    def trap(self, height: List[int]) -> int:\n",
    "        \n",
    "        if not height: return 0\n",
    "\n",
    "        l,r = 0, len(height) - 1\n",
    "        lmax, rmax = height[l], height[r]\n",
    "        res = 0\n",
    "\n",
    "        while l < r:\n",
    "            if lmax < rmax:\n",
    "                l += 1\n",
    "                lmax = max(lmax, height[l])\n",
    "                res += lmax - height[l]\n",
    "            \n",
    "            else:\n",
    "                r -= 1\n",
    "                rmax = max(rmax, height[r])\n",
    "                res += rmax - height[r]\n",
    "        \n",
    "        return res"
   ]
  },
  {
   "cell_type": "code",
   "execution_count": 2,
   "id": "797edf30",
   "metadata": {},
   "outputs": [
    {
     "name": "stdout",
     "output_type": "stream",
     "text": [
      "6\n",
      "9\n",
      "0\n",
      "0\n",
      "1\n"
     ]
    }
   ],
   "source": [
    "# Testing function locally\n",
    "if __name__ == \"__main__\":\n",
    "    sol = Solution()\n",
    "    print(sol.trap([0,1,0,2,1,0,1,3,2,1,2,1]))  # Output: 6\n",
    "    print(sol.trap([4,2,0,3,2,5]))  # Output: 9\n",
    "    print(sol.trap([]))  # Output: 0\n",
    "    print(sol.trap([1]))  # Output: 0\n",
    "    print(sol.trap([1,0,2]))  # Output: 1"
   ]
  }
 ],
 "metadata": {
  "kernelspec": {
   "display_name": "Python 3",
   "language": "python",
   "name": "python3"
  },
  "language_info": {
   "codemirror_mode": {
    "name": "ipython",
    "version": 3
   },
   "file_extension": ".py",
   "mimetype": "text/x-python",
   "name": "python",
   "nbconvert_exporter": "python",
   "pygments_lexer": "ipython3",
   "version": "3.12.2"
  }
 },
 "nbformat": 4,
 "nbformat_minor": 5
}
