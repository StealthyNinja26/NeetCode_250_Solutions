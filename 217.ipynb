{
 "cells": [
  {
   "cell_type": "markdown",
   "id": "6040849d",
   "metadata": {},
   "source": [
    "# 217. Contains Duplicate\n",
    "Given an integer array nums, return true if any value appears at least twice in the array, and return false if every element is distinct.\n",
    "\n",
    " \n",
    "\n",
    "Example 1:\n",
    "\n",
    "Input: nums = [1,2,3,1]\n",
    "Output: true\n",
    "Explanation:\n",
    "The element 1 occurs at the indices 0 and 3.\n",
    "\n",
    "Example 2:\n",
    "\n",
    "Input: nums = [1,2,3,4]\n",
    "Output: false\n",
    "Explanation:\n",
    "All elements are distinct.\n",
    "\n",
    "Example 3:\n",
    "\n",
    "Input: nums = [1,1,1,3,3,4,3,2,4,2]\n",
    "Output: true\n",
    " \n",
    " \n",
    "Constraints:\n",
    "\n",
    "1 <= nums.length <= 105\n",
    "-109 <= nums[i] <= 109"
   ]
  },
  {
   "cell_type": "code",
   "execution_count": 4,
   "id": "cc61aff9",
   "metadata": {},
   "outputs": [
    {
     "name": "stdout",
     "output_type": "stream",
     "text": [
      "Input: [1, 2, 3, 1], Expected Output: True, Actual Output: True\n",
      "Input: [1, 2, 3, 4], Expected Output: False, Actual Output: False\n",
      "Input: [1, 1, 1, 3, 3, 4, 3, 2, 4, 2], Expected Output: True, Actual Output: True\n"
     ]
    }
   ],
   "source": [
    "from typing import List\n",
    "\n",
    "class Solution:\n",
    "    def containsDuplicate(self, nums: List[int]) -> bool:\n",
    "        seen = set()\n",
    "        for num in nums:\n",
    "            if num in seen:\n",
    "                return True\n",
    "            seen.add(num)\n",
    "        return False\n",
    "\n",
    "# Define the examples with test cases to test locally\n",
    "examples = [\n",
    "    {\"Input\": [1, 2, 3, 1], \"Output\": True},\n",
    "    {\"Input\": [1, 2, 3, 4], \"Output\": False},\n",
    "    {\"Input\": [1, 1, 1, 3, 3, 4, 3, 2, 4, 2], \"Output\": True},\n",
    "]\n",
    "\n",
    "# Test the function with the examples\n",
    "solution = Solution()\n",
    "\n",
    "for example in examples:\n",
    "    result = solution.containsDuplicate(example['Input'])\n",
    "    print(f\"Input: {example['Input']}, Expected Output: {example['Output']}, Actual Output: {result}\")"
   ]
  }
 ],
 "metadata": {
  "kernelspec": {
   "display_name": "Python 3",
   "language": "python",
   "name": "python3"
  },
  "language_info": {
   "codemirror_mode": {
    "name": "ipython",
    "version": 3
   },
   "file_extension": ".py",
   "mimetype": "text/x-python",
   "name": "python",
   "nbconvert_exporter": "python",
   "pygments_lexer": "ipython3",
   "version": "3.12.2"
  }
 },
 "nbformat": 4,
 "nbformat_minor": 5
}
