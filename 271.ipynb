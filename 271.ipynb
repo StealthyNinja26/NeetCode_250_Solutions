{
 "cells": [
  {
   "cell_type": "markdown",
   "id": "7a2f78df",
   "metadata": {},
   "source": [
    "# 271. Encode and Decode Strings\n",
    "Design an algorithm to encode a list of strings to a single string. The encoded string is then decoded back to the original list of strings.\n",
    "\n",
    "Please implement encode and decode\n",
    "\n",
    "Example 1:\n",
    "\n",
    "Input: [\"neet\",\"code\",\"love\",\"you\"]\n",
    "\n",
    "Output:[\"neet\",\"code\",\"love\",\"you\"]\n",
    "Example 2:\n",
    "\n",
    "Input: [\"we\",\"say\",\":\",\"yes\"]\n",
    "\n",
    "Output: [\"we\",\"say\",\":\",\"yes\"]\n",
    "\n",
    "\n",
    "Constraints:\n",
    "\n",
    "0 <= strs.length < 100\n",
    "\n",
    "0 <= strs[i].length < 200\n",
    "\n",
    "strs[i] contains only UTF-8 characters.\n"
   ]
  },
  {
   "cell_type": "code",
   "execution_count": 2,
   "id": "6ac2551f",
   "metadata": {},
   "outputs": [],
   "source": [
    "from typing import List\n",
    "class Solution:\n",
    "\n",
    "    def encode(self, strs: List[str]) -> str:\n",
    "        result = \"\"\n",
    "        for wrd in strs:\n",
    "            result += str(len(wrd)) + \"#\" + wrd\n",
    "        return result \n",
    "\n",
    "    def decode(self, s: str) -> List[str]:\n",
    "        result = []\n",
    "        i = 0\n",
    "        \n",
    "        while i <len(s):\n",
    "            j = i \n",
    "            while s[j] != '#':\n",
    "                j += 1\n",
    "            length = int(s[i:j])\n",
    "            i = j + 1 \n",
    "            j = i + length\n",
    "            result.append(s[i:j])\n",
    "            i = j\n",
    "        return result"
   ]
  },
  {
   "cell_type": "code",
   "execution_count": 3,
   "id": "f3bbcc6d",
   "metadata": {},
   "outputs": [
    {
     "name": "stdout",
     "output_type": "stream",
     "text": [
      "Encoded: 5#hello5#world\n",
      "Decoded: ['hello', 'world']\n"
     ]
    }
   ],
   "source": [
    "# Testing code locally\n",
    "if __name__ == \"__main__\":\n",
    "    obj = Solution()\n",
    "    encoded = obj.encode([\"hello\", \"world\"])\n",
    "    print(f\"Encoded: {encoded}\")\n",
    "    decoded = obj.decode(encoded)\n",
    "    print(f\"Decoded: {decoded}\")"
   ]
  }
 ],
 "metadata": {
  "kernelspec": {
   "display_name": "Python 3",
   "language": "python",
   "name": "python3"
  },
  "language_info": {
   "codemirror_mode": {
    "name": "ipython",
    "version": 3
   },
   "file_extension": ".py",
   "mimetype": "text/x-python",
   "name": "python",
   "nbconvert_exporter": "python",
   "pygments_lexer": "ipython3",
   "version": "3.12.2"
  }
 },
 "nbformat": 4,
 "nbformat_minor": 5
}
