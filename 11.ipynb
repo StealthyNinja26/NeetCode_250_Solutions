{
 "cells": [
  {
   "cell_type": "markdown",
   "id": "c763507f",
   "metadata": {},
   "source": [
    "# 11. Container With Most Water\n",
    "\n",
    "You are given an integer array height of length n. There are n vertical lines drawn such that the two endpoints of the ith line are (i, 0) and (i, height[i]).\n",
    "\n",
    "Find two lines that together with the x-axis form a container, such that the container contains the most water.\n",
    "\n",
    "Return the maximum amount of water a container can store.\n",
    "\n",
    "Notice that you may not slant the container.\n",
    "\n",
    "Example 1:\n",
    "\n",
    "Input: height = [1,8,6,2,5,4,8,3,7]\n",
    "\n",
    "Output: 49\n",
    "\n",
    "Explanation: The above vertical lines are represented by array [1,8,6,2,5,4,8,3,7]. In this case, the max area of water (blue section) the container can contain is 49.\n",
    "\n",
    "Example 2:\n",
    "\n",
    "Input: height = [1,1]\n",
    "\n",
    "Output: 1\n",
    " \n",
    "\n",
    "Constraints:\n",
    "\n",
    "n == height.length\n",
    "\n",
    "2 <= n <= 105\n",
    "\n",
    "0 <= height[i] <= 104"
   ]
  },
  {
   "cell_type": "code",
   "execution_count": 1,
   "id": "c26f1bf9",
   "metadata": {},
   "outputs": [],
   "source": [
    "from typing import List\n",
    "class Solution:\n",
    "    def maxArea(self, height: List[int]) -> int:\n",
    "        res = 0\n",
    "        l,r = 0, len(height) - 1\n",
    "\n",
    "        while l < r:\n",
    "            area = (r - l) * min(height[l], height[r])\n",
    "            res = max(res, area)\n",
    "\n",
    "            if height[l] < height[r]:\n",
    "                l += 1\n",
    "            else:\n",
    "                r -= 1\n",
    "        \n",
    "        return res"
   ]
  },
  {
   "cell_type": "code",
   "execution_count": 2,
   "id": "962cd0ed",
   "metadata": {},
   "outputs": [
    {
     "name": "stdout",
     "output_type": "stream",
     "text": [
      "49\n",
      "1\n",
      "16\n",
      "2\n"
     ]
    }
   ],
   "source": [
    "# Testing the solution locally\n",
    "if __name__ == \"__main__\":\n",
    "    sol = Solution()\n",
    "    print(sol.maxArea([1,8,6,2,5,4,8,3,7]))  # Output: 49\n",
    "    print(sol.maxArea([1,1]))  # Output: 1\n",
    "    print(sol.maxArea([4,3,2,1,4]))  # Output: 16\n",
    "    print(sol.maxArea([1,2,1]))  # Output: 2"
   ]
  }
 ],
 "metadata": {
  "kernelspec": {
   "display_name": "Python 3",
   "language": "python",
   "name": "python3"
  },
  "language_info": {
   "codemirror_mode": {
    "name": "ipython",
    "version": 3
   },
   "file_extension": ".py",
   "mimetype": "text/x-python",
   "name": "python",
   "nbconvert_exporter": "python",
   "pygments_lexer": "ipython3",
   "version": "3.12.2"
  }
 },
 "nbformat": 4,
 "nbformat_minor": 5
}
