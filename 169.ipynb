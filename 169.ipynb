{
 "cells": [
  {
   "cell_type": "markdown",
   "id": "7748a299",
   "metadata": {},
   "source": [
    "# 169. Majority Element\n",
    "Given an array nums of size n, return the majority element.\n",
    "\n",
    "The majority element is the element that appears more than ⌊n / 2⌋ times. You may assume that the majority element always exists in the array.\n",
    "\n",
    " \n",
    "\n",
    "Example 1:\n",
    "\n",
    "Input: nums = [3,2,3]<br>\n",
    "Output: 3<br>\n",
    "\n",
    "Example 2:<br>\n",
    "\n",
    "Input: nums = [2,2,1,1,1,2,2]<br>\n",
    "Output: 2<br>\n",
    " \n",
    "\n",
    "Constraints:<br>\n",
    "\n",
    "n == nums.length<br>\n",
    "1 <= n <= 5 * 104<br>\n",
    "-109 <= nums[i] <= 109"
   ]
  },
  {
   "cell_type": "code",
   "execution_count": 2,
   "id": "11a8ad4c",
   "metadata": {},
   "outputs": [],
   "source": [
    "from typing import List \n",
    "\n",
    "class Solution:\n",
    "    def majorityElement(self, nums: List[int]) -> int:\n",
    "        n = len(nums)\n",
    "        count = 0\n",
    "        element = 0\n",
    "\n",
    "        for i in range(0,n):\n",
    "            if count == 0:\n",
    "                element = nums[i]\n",
    "                if nums[i] == element:\n",
    "                    count += 1\n",
    "                else:\n",
    "                    count -= 1\n",
    "        \n",
    "        return element"
   ]
  },
  {
   "cell_type": "code",
   "execution_count": 3,
   "id": "d1293fb9",
   "metadata": {},
   "outputs": [
    {
     "name": "stdout",
     "output_type": "stream",
     "text": [
      "Input: [3, 2, 3], Expected: 3, Got: 3\n",
      "Input: [2, 2, 1, 1, 1, 2, 2], Expected: 2, Got: 2\n"
     ]
    }
   ],
   "source": [
    "# Examples to be run locally\n",
    "# Instantiate the Solution class\n",
    "solution = Solution()\n",
    "\n",
    "test_cases = [\n",
    "    ([3, 2, 3],3),\n",
    "    ([2, 2, 1, 1, 1, 2, 2],2)\n",
    "]\n",
    "\n",
    "for nums, expected in test_cases:\n",
    "    result = solution.majorityElement(nums)\n",
    "    print(f\"Input: {nums}, Expected: {expected}, Got: {result}\")\n",
    "    assert result == expected, f\"Test failed for input {nums}. Expected {expected}, got {result}\""
   ]
  }
 ],
 "metadata": {
  "kernelspec": {
   "display_name": "Python 3",
   "language": "python",
   "name": "python3"
  },
  "language_info": {
   "codemirror_mode": {
    "name": "ipython",
    "version": 3
   },
   "file_extension": ".py",
   "mimetype": "text/x-python",
   "name": "python",
   "nbconvert_exporter": "python",
   "pygments_lexer": "ipython3",
   "version": "3.12.2"
  }
 },
 "nbformat": 4,
 "nbformat_minor": 5
}
