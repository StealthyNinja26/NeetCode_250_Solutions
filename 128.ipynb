{
 "cells": [
  {
   "cell_type": "markdown",
   "id": "32f9b2e9",
   "metadata": {},
   "source": [
    "# 128. Longest Consecutive Sequence\n",
    "Given an unsorted array of integers nums, return the length of the longest consecutive elements sequence.\n",
    "\n",
    "You must write an algorithm that runs in O(n) time.\n",
    "\n",
    " \n",
    "\n",
    "Example 1:\n",
    "\n",
    "Input: nums = [100,4,200,1,3,2]\n",
    "\n",
    "Output: 4\n",
    "\n",
    "Explanation: The longest consecutive elements sequence is [1, 2, 3, 4]. Therefore its length is 4.\n",
    "\n",
    "Example 2:\n",
    "\n",
    "Input: nums = [0,3,7,2,5,8,4,6,0,1]\n",
    "\n",
    "Output: 9\n",
    "\n",
    "Example 3:\n",
    "\n",
    "Input: nums = [1,0,1,2]\n",
    "\n",
    "Output: 3\n",
    "\n",
    "\n",
    "Constraints:\n",
    "\n",
    "0 <= nums.length <= 105\n",
    "\n",
    "-109 <= nums[i] <= 109"
   ]
  },
  {
   "cell_type": "code",
   "execution_count": 3,
   "id": "3c714be2",
   "metadata": {},
   "outputs": [],
   "source": [
    "from typing import List\n",
    "class Solution:\n",
    "    def longestConsecutive(self, nums: List[int]) -> int:\n",
    "        if not nums:\n",
    "            return 0\n",
    "        sorted_nums = sorted(set(nums))\n",
    "        count = 1\n",
    "        max_count = 1\n",
    "        for i in range(len(sorted_nums) - 1):\n",
    "            if sorted_nums[i + 1] - sorted_nums[i] == 1: \n",
    "                count += 1\n",
    "                max_count = max(max_count, count)\n",
    "            else:\n",
    "                count = 1\n",
    "                continue\n",
    "        return max_count"
   ]
  },
  {
   "cell_type": "code",
   "execution_count": 4,
   "id": "a4e3ccde",
   "metadata": {},
   "outputs": [
    {
     "name": "stdout",
     "output_type": "stream",
     "text": [
      "Input: [100, 4, 200, 1, 3, 2] => Longest Consecutive Sequence Length: 4\n",
      "Input: [0, 0, 1, 1] => Longest Consecutive Sequence Length: 2\n",
      "Input: [] => Longest Consecutive Sequence Length: 0\n",
      "Input: [1] => Longest Consecutive Sequence Length: 1\n",
      "Input: [1, 2, 3, 4, 5] => Longest Consecutive Sequence Length: 5\n"
     ]
    }
   ],
   "source": [
    "# Testing the function locally\n",
    "if __name__ == \"__main__\":\n",
    "    sol = Solution()\n",
    "    test_cases = [\n",
    "        [100, 4, 200, 1, 3, 2],\n",
    "        [0, 0, 1, 1],\n",
    "        [],\n",
    "        [1],\n",
    "        [1, 2, 3, 4, 5]\n",
    "    ]\n",
    "    for nums in test_cases:\n",
    "        print(f\"Input: {nums} => Longest Consecutive Sequence Length: {sol.longestConsecutive(nums)}\")"
   ]
  }
 ],
 "metadata": {
  "kernelspec": {
   "display_name": "Python 3",
   "language": "python",
   "name": "python3"
  },
  "language_info": {
   "codemirror_mode": {
    "name": "ipython",
    "version": 3
   },
   "file_extension": ".py",
   "mimetype": "text/x-python",
   "name": "python",
   "nbconvert_exporter": "python",
   "pygments_lexer": "ipython3",
   "version": "3.12.2"
  }
 },
 "nbformat": 4,
 "nbformat_minor": 5
}
