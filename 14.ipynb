{
 "cells": [
  {
   "cell_type": "markdown",
   "id": "170c6c8a",
   "metadata": {},
   "source": [
    "# 14. Longest Common Prefix\n",
    "Write a function to find the longest common prefix string amongst an array of strings.\n",
    "\n",
    "If there is no common prefix, return an empty string \"\".\n",
    "\n",
    " \n",
    "\n",
    "Example 1:\n",
    "\n",
    "Input: strs = [\"flower\",\"flow\",\"flight\"]\n",
    "Output: \"fl\"\n",
    "\n",
    "Example 2:\n",
    "\n",
    "Input: strs = [\"dog\",\"racecar\",\"car\"]\n",
    "Output: \"\"\n",
    "Explanation: There is no common prefix among the input strings.\n",
    " \n",
    "\n",
    "Constraints:\n",
    "\n",
    "1 <= strs.length <= 200\n",
    "0 <= strs[i].length <= 200\n",
    "strs[i] consists of only lowercase English letters if it is non-empty."
   ]
  },
  {
   "cell_type": "code",
   "execution_count": 1,
   "id": "e26b8b3e",
   "metadata": {},
   "outputs": [],
   "source": [
    "from typing import List\n",
    "\n",
    "class Solution:\n",
    "    def longestCommonPrefix(self, strs: List[str]) -> str:\n",
    "        ans = \"\"\n",
    "        sorted_strs = sorted(strs, key = str.lower)\n",
    "        first = strs[0]\n",
    "        last = strs[-1]\n",
    "        for i in range (min(len(first),len(last))):\n",
    "            if(first[i] != last[i]):\n",
    "                return ans\n",
    "            ans+=first[i]\n",
    "        return ans"
   ]
  },
  {
   "cell_type": "code",
   "execution_count": 2,
   "id": "529fd216",
   "metadata": {},
   "outputs": [
    {
     "name": "stdout",
     "output_type": "stream",
     "text": [
      "Input: ['flower', 'flow', 'flight'], Expected: fl, Got: fl\n",
      "Input: ['dog', 'racecar', 'car'], Expected: , Got: \n",
      "Input: ['interview', 'internet', 'internal'], Expected: inte, Got: inter\n",
      "Input: ['apple', 'ape', 'april'], Expected: ap, Got: ap\n",
      "Input: [''], Expected: , Got: \n",
      "Input: ['single'], Expected: single, Got: single\n",
      "Input: ['prefix', 'prefixes', 'prefixation'], Expected: prefix, Got: prefix\n"
     ]
    }
   ],
   "source": [
    "# Create an instance of the Solution class\n",
    "solution = Solution()\n",
    "\n",
    "# Example test cases\n",
    "test_cases = [\n",
    "    ([\"flower\", \"flow\", \"flight\"], \"fl\"),\n",
    "    ([\"dog\", \"racecar\", \"car\"], \"\"),\n",
    "    ([\"interview\", \"internet\", \"internal\"], \"inte\"),\n",
    "    ([\"apple\", \"ape\", \"april\"], \"ap\"),\n",
    "    ([\"\"], \"\"),\n",
    "    ([\"single\"], \"single\"),\n",
    "    ([\"prefix\", \"prefixes\", \"prefixation\"], \"prefix\")\n",
    "]\n",
    "\n",
    "# Test the function and print results\n",
    "for strs, expected in test_cases:\n",
    "    result = solution.longestCommonPrefix(strs)\n",
    "    print(f\"Input: {strs}, Expected: {expected}, Got: {result}\")\n"
   ]
  }
 ],
 "metadata": {
  "kernelspec": {
   "display_name": "Python 3",
   "language": "python",
   "name": "python3"
  },
  "language_info": {
   "codemirror_mode": {
    "name": "ipython",
    "version": 3
   },
   "file_extension": ".py",
   "mimetype": "text/x-python",
   "name": "python",
   "nbconvert_exporter": "python",
   "pygments_lexer": "ipython3",
   "version": "3.12.2"
  }
 },
 "nbformat": 4,
 "nbformat_minor": 5
}
