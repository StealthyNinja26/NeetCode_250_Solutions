{
 "cells": [
  {
   "cell_type": "markdown",
   "id": "f6bec444",
   "metadata": {},
   "source": [
    "# 242. Valid Anagram\n",
    "Given two strings s and t, return true if t is an anagram of s, and false otherwise.\n",
    "\n",
    " \n",
    "\n",
    "Example 1:\n",
    "\n",
    "Input: s = \"anagram\", t = \"nagaram\"\n",
    "Output: true\n",
    "\n",
    "Example 2:\n",
    "\n",
    "Input: s = \"rat\", t = \"car\"\n",
    "Output: false\n",
    "\n",
    " \n",
    "\n",
    "Constraints:\n",
    "\n",
    "1 <= s.length, t.length <= 5 * 104\n",
    "s and t consist of lowercase English letters."
   ]
  },
  {
   "cell_type": "code",
   "execution_count": null,
   "id": "1e98e224",
   "metadata": {},
   "outputs": [
    {
     "name": "stdout",
     "output_type": "stream",
     "text": [
      "Input: s = anagram, t = nagaram, Expected Output: True, Actual Output: True\n",
      "Input: s = rat, t = car, Expected Output: False, Actual Output: False\n"
     ]
    }
   ],
   "source": [
    "class Solution:\n",
    "    def isAnagram(self, s: str, t: str) -> bool:\n",
    "        sorted_s = sorted(s)\n",
    "        sorted_t = sorted(t)\n",
    "        if sorted_s == sorted_t:\n",
    "            return True\n",
    "        return False\n",
    "    \n",
    "# Define the examples with test cases\n",
    "examples = [\n",
    "    {\"Input\": {\"s\": \"anagram\", \"t\": \"nagaram\"}, \"Output\": True},\n",
    "    {\"Input\": {\"s\": \"rat\", \"t\": \"car\"}, \"Output\": False},\n",
    "]\n",
    "\n",
    "# Test the function with the examples\n",
    "solution = Solution()\n",
    "\n",
    "for example in examples:\n",
    "    s = example[\"Input\"][\"s\"]\n",
    "    t = example[\"Input\"][\"t\"]\n",
    "    result = solution.isAnagram(s, t)\n",
    "    print(f\"Input: s = {s}, t = {t}, Expected Output: {example['Output']}, Actual Output: {result}\")"
   ]
  }
 ],
 "metadata": {
  "kernelspec": {
   "display_name": "Python 3",
   "language": "python",
   "name": "python3"
  },
  "language_info": {
   "codemirror_mode": {
    "name": "ipython",
    "version": 3
   },
   "file_extension": ".py",
   "mimetype": "text/x-python",
   "name": "python",
   "nbconvert_exporter": "python",
   "pygments_lexer": "ipython3",
   "version": "3.12.2"
  }
 },
 "nbformat": 4,
 "nbformat_minor": 5
}
