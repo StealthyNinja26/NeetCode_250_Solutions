{
 "cells": [
  {
   "cell_type": "markdown",
   "id": "c768ffff",
   "metadata": {},
   "source": [
    "# 3. Longest Substring Without Repeating Characters\n",
    "\n",
    "Given a string s, find the length of the longest substring without duplicate characters.\n",
    "\n",
    "Example 1:\n",
    "\n",
    "Input: s = \"abcabcbb\"\n",
    "\n",
    "Output: 3\n",
    "\n",
    "Explanation: The answer is \"abc\", with the length of 3.\n",
    "\n",
    "Example 2:\n",
    "\n",
    "Input: s = \"bbbbb\"\n",
    "\n",
    "Output: 1\n",
    "\n",
    "Explanation: The answer is \"b\", with the length of 1.\n",
    "\n",
    "Example 3:\n",
    "\n",
    "Input: s = \"pwwkew\"\n",
    "\n",
    "Output: 3\n",
    "\n",
    "Explanation: The answer is \"wke\", with the length of 3.\n",
    "\n",
    "Notice that the answer must be a substring, \"pwke\" is a subsequence and not a substring.\n",
    "\n",
    "Constraints:\n",
    "\n",
    "0 <= s.length <= 5 * 104\n",
    "\n",
    "s consists of English letters, digits, symbols and spaces."
   ]
  },
  {
   "cell_type": "code",
   "execution_count": 1,
   "id": "58d5f01c",
   "metadata": {},
   "outputs": [],
   "source": [
    "from typing import List\n",
    "class Solution:\n",
    "    def lengthOfLongestSubstring(self, s: str) -> int:\n",
    "        charset = set()\n",
    "        l = 0\n",
    "        res = 0\n",
    "\n",
    "        for r in range(len(s)):\n",
    "            while s[r] in charset:\n",
    "                charset.remove(s[l])\n",
    "                l += 1\n",
    "            charset.add(s[r])\n",
    "            res = max(res, r - l + 1)\n",
    "        return res"
   ]
  },
  {
   "cell_type": "code",
   "execution_count": 2,
   "id": "92e899c4",
   "metadata": {},
   "outputs": [
    {
     "name": "stdout",
     "output_type": "stream",
     "text": [
      "Input: 'abcabcbb' => Output: 3\n",
      "Input: 'bbbbb' => Output: 1\n",
      "Input: 'pwwkew' => Output: 3\n",
      "Input: '' => Output: 0\n",
      "Input: 'a' => Output: 1\n",
      "Input: 'dvdf' => Output: 3\n"
     ]
    }
   ],
   "source": [
    "# Testing the function locally\n",
    "if __name__ == \"__main__\":\n",
    "    solution = Solution()\n",
    "    test_cases: List[str] = [\n",
    "        \"abcabcbb\",  # Expected output: 3\n",
    "        \"bbbbb\",     # Expected output: 1\n",
    "        \"pwwkew\",    # Expected output: 3\n",
    "        \"\",          # Expected output: 0\n",
    "        \"a\",         # Expected output: 1\n",
    "        \"dvdf\"       # Expected output: 3\n",
    "    ]\n",
    "    \n",
    "    for s in test_cases:\n",
    "        print(f\"Input: '{s}' => Output: {solution.lengthOfLongestSubstring(s)}\")"
   ]
  }
 ],
 "metadata": {
  "kernelspec": {
   "display_name": "Python 3",
   "language": "python",
   "name": "python3"
  },
  "language_info": {
   "codemirror_mode": {
    "name": "ipython",
    "version": 3
   },
   "file_extension": ".py",
   "mimetype": "text/x-python",
   "name": "python",
   "nbconvert_exporter": "python",
   "pygments_lexer": "ipython3",
   "version": "3.12.2"
  }
 },
 "nbformat": 4,
 "nbformat_minor": 5
}
