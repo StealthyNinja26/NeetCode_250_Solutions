{
 "cells": [
  {
   "cell_type": "markdown",
   "id": "72a26f26",
   "metadata": {},
   "source": [
    "# 49. Group Anagrams\n",
    "Given an array of strings strs, group the anagrams together. You can return the answer in any order.\n",
    "\n",
    " \n",
    "\n",
    "Example 1:\n",
    "\n",
    "Input: strs = [\"eat\",\"tea\",\"tan\",\"ate\",\"nat\",\"bat\"]\n",
    "Output: [[\"bat\"],[\"nat\",\"tan\"],[\"ate\",\"eat\",\"tea\"]]\n",
    "\n",
    "Explanation:\n",
    "\n",
    "There is no string in strs that can be rearranged to form \"bat\".\n",
    "The strings \"nat\" and \"tan\" are anagrams as they can be rearranged to form each other.\n",
    "The strings \"ate\", \"eat\", and \"tea\" are anagrams as they can be rearranged to form each other.\n",
    "\n",
    "Example 2:\n",
    "\n",
    "Input: strs = [\"\"]\n",
    "Output: [[\"\"]]\n",
    "\n",
    "Example 3:\n",
    "\n",
    "Input: strs = [\"a\"]\n",
    "Output: [[\"a\"]]\n",
    "\n",
    " \n",
    "\n",
    "Constraints:\n",
    "\n",
    "1 <= strs.length <= 104\n",
    "0 <= strs[i].length <= 100\n",
    "strs[i] consists of lowercase English letters."
   ]
  },
  {
   "cell_type": "code",
   "execution_count": 1,
   "id": "3d62240d",
   "metadata": {},
   "outputs": [],
   "source": [
    "from typing import List\n",
    "from collections import defaultdict\n",
    "\n",
    "class Solution:\n",
    "    def groupAnagrams(self, strs):\n",
    "        anagram_map = defaultdict(list)\n",
    "        \n",
    "        for word in strs:\n",
    "            sorted_word = ''.join(sorted(word))\n",
    "            anagram_map[sorted_word].append(word)\n",
    "        \n",
    "        return list(anagram_map.values())"
   ]
  },
  {
   "cell_type": "code",
   "execution_count": 2,
   "id": "065aa963",
   "metadata": {},
   "outputs": [
    {
     "name": "stdout",
     "output_type": "stream",
     "text": [
      "Input: ['eat', 'tea', 'tan', 'ate', 'nat', 'bat'] => Output: [['eat', 'tea', 'ate'], ['tan', 'nat'], ['bat']]\n",
      "Input: [''] => Output: [['']]\n",
      "Input: ['a'] => Output: [['a']]\n",
      "Input: ['abc', 'bca', 'cab', 'xyz', 'zyx'] => Output: [['abc', 'bca', 'cab'], ['xyz', 'zyx']]\n",
      "Input: ['abcd', 'bcda', 'cdab', 'dabc'] => Output: [['abcd', 'bcda', 'cdab', 'dabc']]\n"
     ]
    }
   ],
   "source": [
    "solution = Solution()\n",
    "\n",
    "test_cases = [\n",
    "    [\"eat\", \"tea\", \"tan\", \"ate\", \"nat\", \"bat\"],\n",
    "    [\"\"], \n",
    "    [\"a\"], \n",
    "    [\"abc\", \"bca\", \"cab\", \"xyz\", \"zyx\"], \n",
    "    [\"abcd\", \"bcda\", \"cdab\", \"dabc\"]\n",
    "]\n",
    "\n",
    "for test in test_cases:\n",
    "    result = solution.groupAnagrams(test)\n",
    "    print(f\"Input: {test} => Output: {result}\")"
   ]
  }
 ],
 "metadata": {
  "kernelspec": {
   "display_name": "Python 3",
   "language": "python",
   "name": "python3"
  },
  "language_info": {
   "codemirror_mode": {
    "name": "ipython",
    "version": 3
   },
   "file_extension": ".py",
   "mimetype": "text/x-python",
   "name": "python",
   "nbconvert_exporter": "python",
   "pygments_lexer": "ipython3",
   "version": "3.12.2"
  }
 },
 "nbformat": 4,
 "nbformat_minor": 5
}
